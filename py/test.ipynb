{
 "metadata": {
  "language_info": {
   "codemirror_mode": {
    "name": "ipython",
    "version": 3
   },
   "file_extension": ".py",
   "mimetype": "text/x-python",
   "name": "python",
   "nbconvert_exporter": "python",
   "pygments_lexer": "ipython3",
   "version": "3.8.5-final"
  },
  "orig_nbformat": 2,
  "kernelspec": {
   "name": "python3",
   "display_name": "Python 3",
   "language": "python"
  }
 },
 "nbformat": 4,
 "nbformat_minor": 2,
 "cells": [
  {
   "cell_type": "code",
   "execution_count": null,
   "metadata": {},
   "outputs": [],
   "source": [
    "print('hello')"
   ]
  },
  {
   "cell_type": "code",
   "execution_count": null,
   "metadata": {},
   "outputs": [],
   "source": [
    "import pandas as pd\n",
    "import numpy as np\n",
    "import matplotlib.pyplot as plt\n",
    "import sklearn"
   ]
  },
  {
   "cell_type": "code",
   "execution_count": 10,
   "metadata": {},
   "outputs": [
    {
     "output_type": "execute_result",
     "data": {
      "text/plain": [
       "0     BMW\n",
       "1     Toy\n",
       "2    Benz\n",
       "dtype: object"
      ]
     },
     "metadata": {},
     "execution_count": 10
    }
   ],
   "source": [
    "# Series\n",
    "\n",
    "series = pd.Series([\"BMW\", \"Toy\", \"Benz\"])\n",
    "series"
   ]
  },
  {
   "cell_type": "code",
   "execution_count": 11,
   "metadata": {},
   "outputs": [
    {
     "output_type": "execute_result",
     "data": {
      "text/plain": [
       "  Brand Price\n",
       "0   BMW    2M\n",
       "1   Toy    1M\n",
       "2  Benz    3M"
      ],
      "text/html": "<div>\n<style scoped>\n    .dataframe tbody tr th:only-of-type {\n        vertical-align: middle;\n    }\n\n    .dataframe tbody tr th {\n        vertical-align: top;\n    }\n\n    .dataframe thead th {\n        text-align: right;\n    }\n</style>\n<table border=\"1\" class=\"dataframe\">\n  <thead>\n    <tr style=\"text-align: right;\">\n      <th></th>\n      <th>Brand</th>\n      <th>Price</th>\n    </tr>\n  </thead>\n  <tbody>\n    <tr>\n      <th>0</th>\n      <td>BMW</td>\n      <td>2M</td>\n    </tr>\n    <tr>\n      <th>1</th>\n      <td>Toy</td>\n      <td>1M</td>\n    </tr>\n    <tr>\n      <th>2</th>\n      <td>Benz</td>\n      <td>3M</td>\n    </tr>\n  </tbody>\n</table>\n</div>"
     },
     "metadata": {},
     "execution_count": 11
    }
   ],
   "source": [
    "# DataFrame\n",
    "\n",
    "df = pd.DataFrame({\"Brand\": series, \"Price\": [\"2M\", \"1M\", \"3M\"]})\n",
    "df"
   ]
  },
  {
   "cell_type": "code",
   "execution_count": null,
   "metadata": {},
   "outputs": [],
   "source": [
    "car_sales = pd.read_csv('car-sales.csv')\n",
    "car_sales.to_csv(\"exported-car-sales.csv\", index=False)\n",
    "\n",
    "#car_sales.to_excel('export-car-sales.xlsx')"
   ]
  },
  {
   "cell_type": "code",
   "execution_count": 17,
   "metadata": {},
   "outputs": [
    {
     "output_type": "execute_result",
     "data": {
      "text/plain": [
       "Make             object\n",
       "Colour           object\n",
       "Odometer (KM)     int64\n",
       "Doors             int64\n",
       "Price            object\n",
       "dtype: object"
      ]
     },
     "metadata": {},
     "execution_count": 17
    }
   ],
   "source": [
    "export_car_sales = pd.read_csv('exported-car-sales.csv')\n",
    "export_car_sales.dtypes"
   ]
  },
  {
   "cell_type": "code",
   "execution_count": 16,
   "metadata": {},
   "outputs": [
    {
     "output_type": "execute_result",
     "data": {
      "text/plain": [
       "     age  sex  cp  trestbps  chol  fbs  restecg  thalach  exang  oldpeak  \\\n",
       "0     63    1   3       145   233    1        0      150      0      2.3   \n",
       "1     37    1   2       130   250    0        1      187      0      3.5   \n",
       "2     41    0   1       130   204    0        0      172      0      1.4   \n",
       "3     56    1   1       120   236    0        1      178      0      0.8   \n",
       "4     57    0   0       120   354    0        1      163      1      0.6   \n",
       "..   ...  ...  ..       ...   ...  ...      ...      ...    ...      ...   \n",
       "298   57    0   0       140   241    0        1      123      1      0.2   \n",
       "299   45    1   3       110   264    0        1      132      0      1.2   \n",
       "300   68    1   0       144   193    1        1      141      0      3.4   \n",
       "301   57    1   0       130   131    0        1      115      1      1.2   \n",
       "302   57    0   1       130   236    0        0      174      0      0.0   \n",
       "\n",
       "     slope  ca  thal  target  \n",
       "0        0   0     1       1  \n",
       "1        0   0     2       1  \n",
       "2        2   0     2       1  \n",
       "3        2   0     2       1  \n",
       "4        2   0     2       1  \n",
       "..     ...  ..   ...     ...  \n",
       "298      1   0     3       0  \n",
       "299      1   0     3       0  \n",
       "300      1   2     3       0  \n",
       "301      1   1     3       0  \n",
       "302      1   1     2       0  \n",
       "\n",
       "[303 rows x 14 columns]"
      ],
      "text/html": "<div>\n<style scoped>\n    .dataframe tbody tr th:only-of-type {\n        vertical-align: middle;\n    }\n\n    .dataframe tbody tr th {\n        vertical-align: top;\n    }\n\n    .dataframe thead th {\n        text-align: right;\n    }\n</style>\n<table border=\"1\" class=\"dataframe\">\n  <thead>\n    <tr style=\"text-align: right;\">\n      <th></th>\n      <th>age</th>\n      <th>sex</th>\n      <th>cp</th>\n      <th>trestbps</th>\n      <th>chol</th>\n      <th>fbs</th>\n      <th>restecg</th>\n      <th>thalach</th>\n      <th>exang</th>\n      <th>oldpeak</th>\n      <th>slope</th>\n      <th>ca</th>\n      <th>thal</th>\n      <th>target</th>\n    </tr>\n  </thead>\n  <tbody>\n    <tr>\n      <th>0</th>\n      <td>63</td>\n      <td>1</td>\n      <td>3</td>\n      <td>145</td>\n      <td>233</td>\n      <td>1</td>\n      <td>0</td>\n      <td>150</td>\n      <td>0</td>\n      <td>2.3</td>\n      <td>0</td>\n      <td>0</td>\n      <td>1</td>\n      <td>1</td>\n    </tr>\n    <tr>\n      <th>1</th>\n      <td>37</td>\n      <td>1</td>\n      <td>2</td>\n      <td>130</td>\n      <td>250</td>\n      <td>0</td>\n      <td>1</td>\n      <td>187</td>\n      <td>0</td>\n      <td>3.5</td>\n      <td>0</td>\n      <td>0</td>\n      <td>2</td>\n      <td>1</td>\n    </tr>\n    <tr>\n      <th>2</th>\n      <td>41</td>\n      <td>0</td>\n      <td>1</td>\n      <td>130</td>\n      <td>204</td>\n      <td>0</td>\n      <td>0</td>\n      <td>172</td>\n      <td>0</td>\n      <td>1.4</td>\n      <td>2</td>\n      <td>0</td>\n      <td>2</td>\n      <td>1</td>\n    </tr>\n    <tr>\n      <th>3</th>\n      <td>56</td>\n      <td>1</td>\n      <td>1</td>\n      <td>120</td>\n      <td>236</td>\n      <td>0</td>\n      <td>1</td>\n      <td>178</td>\n      <td>0</td>\n      <td>0.8</td>\n      <td>2</td>\n      <td>0</td>\n      <td>2</td>\n      <td>1</td>\n    </tr>\n    <tr>\n      <th>4</th>\n      <td>57</td>\n      <td>0</td>\n      <td>0</td>\n      <td>120</td>\n      <td>354</td>\n      <td>0</td>\n      <td>1</td>\n      <td>163</td>\n      <td>1</td>\n      <td>0.6</td>\n      <td>2</td>\n      <td>0</td>\n      <td>2</td>\n      <td>1</td>\n    </tr>\n    <tr>\n      <th>...</th>\n      <td>...</td>\n      <td>...</td>\n      <td>...</td>\n      <td>...</td>\n      <td>...</td>\n      <td>...</td>\n      <td>...</td>\n      <td>...</td>\n      <td>...</td>\n      <td>...</td>\n      <td>...</td>\n      <td>...</td>\n      <td>...</td>\n      <td>...</td>\n    </tr>\n    <tr>\n      <th>298</th>\n      <td>57</td>\n      <td>0</td>\n      <td>0</td>\n      <td>140</td>\n      <td>241</td>\n      <td>0</td>\n      <td>1</td>\n      <td>123</td>\n      <td>1</td>\n      <td>0.2</td>\n      <td>1</td>\n      <td>0</td>\n      <td>3</td>\n      <td>0</td>\n    </tr>\n    <tr>\n      <th>299</th>\n      <td>45</td>\n      <td>1</td>\n      <td>3</td>\n      <td>110</td>\n      <td>264</td>\n      <td>0</td>\n      <td>1</td>\n      <td>132</td>\n      <td>0</td>\n      <td>1.2</td>\n      <td>1</td>\n      <td>0</td>\n      <td>3</td>\n      <td>0</td>\n    </tr>\n    <tr>\n      <th>300</th>\n      <td>68</td>\n      <td>1</td>\n      <td>0</td>\n      <td>144</td>\n      <td>193</td>\n      <td>1</td>\n      <td>1</td>\n      <td>141</td>\n      <td>0</td>\n      <td>3.4</td>\n      <td>1</td>\n      <td>2</td>\n      <td>3</td>\n      <td>0</td>\n    </tr>\n    <tr>\n      <th>301</th>\n      <td>57</td>\n      <td>1</td>\n      <td>0</td>\n      <td>130</td>\n      <td>131</td>\n      <td>0</td>\n      <td>1</td>\n      <td>115</td>\n      <td>1</td>\n      <td>1.2</td>\n      <td>1</td>\n      <td>1</td>\n      <td>3</td>\n      <td>0</td>\n    </tr>\n    <tr>\n      <th>302</th>\n      <td>57</td>\n      <td>0</td>\n      <td>1</td>\n      <td>130</td>\n      <td>236</td>\n      <td>0</td>\n      <td>0</td>\n      <td>174</td>\n      <td>0</td>\n      <td>0.0</td>\n      <td>1</td>\n      <td>1</td>\n      <td>2</td>\n      <td>0</td>\n    </tr>\n  </tbody>\n</table>\n<p>303 rows × 14 columns</p>\n</div>"
     },
     "metadata": {},
     "execution_count": 16
    }
   ],
   "source": [
    "heart_disease = pd.read_csv(\"https://raw.githubusercontent.com/mrdbourke/zero-to-mastery-ml/master/data/heart-disease.csv\")\n",
    "heart_disease"
   ]
  },
  {
   "cell_type": "code",
   "execution_count": 33,
   "metadata": {},
   "outputs": [
    {
     "output_type": "execute_result",
     "data": {
      "text/plain": [
       "                                Item Name          SKU Brand  Spec  Cat_ID  \\\n",
       "0     ก้ามปูเหลือง18(1/2\")ช้าง              กป-50018-2   SCG   NaN  1611.0   \n",
       "5     กล่องพักสาย เหลือง[2x4\"]ช้าง           กล-50001-   SCG   NaN  1611.0   \n",
       "6     เข้ากล่องเหลือง18มม.(1/2\")ช้าง         ขก-50018-   SCG   NaN  1611.0   \n",
       "7     ข้อต่อตรงเหลือง18มม.(1/2\")ช้าง         ขต-50018-   SCG   NaN  1611.0   \n",
       "181   ลูกฟูกเหลือง15มิล ช้าง                ทอ-51015-1   SCG   NaN  1611.0   \n",
       "900      กิ๊บจับท่อเหลือง 18มิล/4หุน ช้าง    กบ-50018-   SCG   NaN  1611.0   \n",
       "902             ก้ามปูเหลือง 15/3หุน ช้าง    กป-50015-   SCG   NaN  1611.0   \n",
       "950          กล่องพักสาย เหลือง[4x4\"]ช้าง    กล-50002-   SCG   NaN  1611.0   \n",
       "958      เข้ากล่องเหลือง 15มม.(3หุน) ช้าง    ขก-50015-   SCG   NaN  1611.0   \n",
       "999         ข้อโค้งเหลือง 15มิล/3หุน ช้าง    ขง-50015-   SCG   NaN  1611.0   \n",
       "1060     ข้อต่อตรงเหลือง 15มม.(3หุน) ช้าง    ขต-50015-   SCG   NaN  1611.0   \n",
       "1066       ข้อต่อตรงเหลือง 80มม.(3\") ช้าง    ขต-50080-   SCG   NaN  1611.0   \n",
       "1777           ท่อ เส้นเหลือง15(3/8\")ช้าง   ทอ-50015-1   SCG   NaN  1611.0   \n",
       "1784                 ลูกฟูกเหลือง15มม.SCG    ทอ-50115-   SCG   NaN  1611.0   \n",
       "1788        ลูกฟูกเหลือง15มิล(5ม.)ช้างSCG    ทอ-50515-   SCG   NaN  1611.0   \n",
       "1791           ลูกฟูกเหลือง15มิล(10ม.)SCG    ทอ-51015-   SCG   NaN  1611.0   \n",
       "2726        สามทางเหลือง 15มิล(3หุน) ช้าง    สท-50015-   SCG   NaN  1611.0   \n",
       "\n",
       "      Photo_1  Photo_2  Photo_3  Photo_4  Photo_5  Activate  \n",
       "0         NaN      NaN      NaN      NaN      NaN       NaN  \n",
       "5         NaN      NaN      NaN      NaN      NaN       NaN  \n",
       "6         NaN      NaN      NaN      NaN      NaN       NaN  \n",
       "7         NaN      NaN      NaN      NaN      NaN       NaN  \n",
       "181       NaN      NaN      NaN      NaN      NaN       NaN  \n",
       "900       NaN      NaN      NaN      NaN      NaN       NaN  \n",
       "902       NaN      NaN      NaN      NaN      NaN       NaN  \n",
       "950       NaN      NaN      NaN      NaN      NaN       NaN  \n",
       "958       NaN      NaN      NaN      NaN      NaN       NaN  \n",
       "999       NaN      NaN      NaN      NaN      NaN       NaN  \n",
       "1060      NaN      NaN      NaN      NaN      NaN       NaN  \n",
       "1066      NaN      NaN      NaN      NaN      NaN       NaN  \n",
       "1777      NaN      NaN      NaN      NaN      NaN       NaN  \n",
       "1784      NaN      NaN      NaN      NaN      NaN       NaN  \n",
       "1788      NaN      NaN      NaN      NaN      NaN       NaN  \n",
       "1791      NaN      NaN      NaN      NaN      NaN       NaN  \n",
       "2726      NaN      NaN      NaN      NaN      NaN       NaN  "
      ],
      "text/html": "<div>\n<style scoped>\n    .dataframe tbody tr th:only-of-type {\n        vertical-align: middle;\n    }\n\n    .dataframe tbody tr th {\n        vertical-align: top;\n    }\n\n    .dataframe thead th {\n        text-align: right;\n    }\n</style>\n<table border=\"1\" class=\"dataframe\">\n  <thead>\n    <tr style=\"text-align: right;\">\n      <th></th>\n      <th>Item Name</th>\n      <th>SKU</th>\n      <th>Brand</th>\n      <th>Spec</th>\n      <th>Cat_ID</th>\n      <th>Photo_1</th>\n      <th>Photo_2</th>\n      <th>Photo_3</th>\n      <th>Photo_4</th>\n      <th>Photo_5</th>\n      <th>Activate</th>\n    </tr>\n  </thead>\n  <tbody>\n    <tr>\n      <th>0</th>\n      <td>ก้ามปูเหลือง18(1/2\")ช้าง</td>\n      <td>กป-50018-2</td>\n      <td>SCG</td>\n      <td>NaN</td>\n      <td>1611.0</td>\n      <td>NaN</td>\n      <td>NaN</td>\n      <td>NaN</td>\n      <td>NaN</td>\n      <td>NaN</td>\n      <td>NaN</td>\n    </tr>\n    <tr>\n      <th>5</th>\n      <td>กล่องพักสาย เหลือง[2x4\"]ช้าง</td>\n      <td>กล-50001-</td>\n      <td>SCG</td>\n      <td>NaN</td>\n      <td>1611.0</td>\n      <td>NaN</td>\n      <td>NaN</td>\n      <td>NaN</td>\n      <td>NaN</td>\n      <td>NaN</td>\n      <td>NaN</td>\n    </tr>\n    <tr>\n      <th>6</th>\n      <td>เข้ากล่องเหลือง18มม.(1/2\")ช้าง</td>\n      <td>ขก-50018-</td>\n      <td>SCG</td>\n      <td>NaN</td>\n      <td>1611.0</td>\n      <td>NaN</td>\n      <td>NaN</td>\n      <td>NaN</td>\n      <td>NaN</td>\n      <td>NaN</td>\n      <td>NaN</td>\n    </tr>\n    <tr>\n      <th>7</th>\n      <td>ข้อต่อตรงเหลือง18มม.(1/2\")ช้าง</td>\n      <td>ขต-50018-</td>\n      <td>SCG</td>\n      <td>NaN</td>\n      <td>1611.0</td>\n      <td>NaN</td>\n      <td>NaN</td>\n      <td>NaN</td>\n      <td>NaN</td>\n      <td>NaN</td>\n      <td>NaN</td>\n    </tr>\n    <tr>\n      <th>181</th>\n      <td>ลูกฟูกเหลือง15มิล ช้าง</td>\n      <td>ทอ-51015-1</td>\n      <td>SCG</td>\n      <td>NaN</td>\n      <td>1611.0</td>\n      <td>NaN</td>\n      <td>NaN</td>\n      <td>NaN</td>\n      <td>NaN</td>\n      <td>NaN</td>\n      <td>NaN</td>\n    </tr>\n    <tr>\n      <th>900</th>\n      <td>กิ๊บจับท่อเหลือง 18มิล/4หุน ช้าง</td>\n      <td>กบ-50018-</td>\n      <td>SCG</td>\n      <td>NaN</td>\n      <td>1611.0</td>\n      <td>NaN</td>\n      <td>NaN</td>\n      <td>NaN</td>\n      <td>NaN</td>\n      <td>NaN</td>\n      <td>NaN</td>\n    </tr>\n    <tr>\n      <th>902</th>\n      <td>ก้ามปูเหลือง 15/3หุน ช้าง</td>\n      <td>กป-50015-</td>\n      <td>SCG</td>\n      <td>NaN</td>\n      <td>1611.0</td>\n      <td>NaN</td>\n      <td>NaN</td>\n      <td>NaN</td>\n      <td>NaN</td>\n      <td>NaN</td>\n      <td>NaN</td>\n    </tr>\n    <tr>\n      <th>950</th>\n      <td>กล่องพักสาย เหลือง[4x4\"]ช้าง</td>\n      <td>กล-50002-</td>\n      <td>SCG</td>\n      <td>NaN</td>\n      <td>1611.0</td>\n      <td>NaN</td>\n      <td>NaN</td>\n      <td>NaN</td>\n      <td>NaN</td>\n      <td>NaN</td>\n      <td>NaN</td>\n    </tr>\n    <tr>\n      <th>958</th>\n      <td>เข้ากล่องเหลือง 15มม.(3หุน) ช้าง</td>\n      <td>ขก-50015-</td>\n      <td>SCG</td>\n      <td>NaN</td>\n      <td>1611.0</td>\n      <td>NaN</td>\n      <td>NaN</td>\n      <td>NaN</td>\n      <td>NaN</td>\n      <td>NaN</td>\n      <td>NaN</td>\n    </tr>\n    <tr>\n      <th>999</th>\n      <td>ข้อโค้งเหลือง 15มิล/3หุน ช้าง</td>\n      <td>ขง-50015-</td>\n      <td>SCG</td>\n      <td>NaN</td>\n      <td>1611.0</td>\n      <td>NaN</td>\n      <td>NaN</td>\n      <td>NaN</td>\n      <td>NaN</td>\n      <td>NaN</td>\n      <td>NaN</td>\n    </tr>\n    <tr>\n      <th>1060</th>\n      <td>ข้อต่อตรงเหลือง 15มม.(3หุน) ช้าง</td>\n      <td>ขต-50015-</td>\n      <td>SCG</td>\n      <td>NaN</td>\n      <td>1611.0</td>\n      <td>NaN</td>\n      <td>NaN</td>\n      <td>NaN</td>\n      <td>NaN</td>\n      <td>NaN</td>\n      <td>NaN</td>\n    </tr>\n    <tr>\n      <th>1066</th>\n      <td>ข้อต่อตรงเหลือง 80มม.(3\") ช้าง</td>\n      <td>ขต-50080-</td>\n      <td>SCG</td>\n      <td>NaN</td>\n      <td>1611.0</td>\n      <td>NaN</td>\n      <td>NaN</td>\n      <td>NaN</td>\n      <td>NaN</td>\n      <td>NaN</td>\n      <td>NaN</td>\n    </tr>\n    <tr>\n      <th>1777</th>\n      <td>ท่อ เส้นเหลือง15(3/8\")ช้าง</td>\n      <td>ทอ-50015-1</td>\n      <td>SCG</td>\n      <td>NaN</td>\n      <td>1611.0</td>\n      <td>NaN</td>\n      <td>NaN</td>\n      <td>NaN</td>\n      <td>NaN</td>\n      <td>NaN</td>\n      <td>NaN</td>\n    </tr>\n    <tr>\n      <th>1784</th>\n      <td>ลูกฟูกเหลือง15มม.SCG</td>\n      <td>ทอ-50115-</td>\n      <td>SCG</td>\n      <td>NaN</td>\n      <td>1611.0</td>\n      <td>NaN</td>\n      <td>NaN</td>\n      <td>NaN</td>\n      <td>NaN</td>\n      <td>NaN</td>\n      <td>NaN</td>\n    </tr>\n    <tr>\n      <th>1788</th>\n      <td>ลูกฟูกเหลือง15มิล(5ม.)ช้างSCG</td>\n      <td>ทอ-50515-</td>\n      <td>SCG</td>\n      <td>NaN</td>\n      <td>1611.0</td>\n      <td>NaN</td>\n      <td>NaN</td>\n      <td>NaN</td>\n      <td>NaN</td>\n      <td>NaN</td>\n      <td>NaN</td>\n    </tr>\n    <tr>\n      <th>1791</th>\n      <td>ลูกฟูกเหลือง15มิล(10ม.)SCG</td>\n      <td>ทอ-51015-</td>\n      <td>SCG</td>\n      <td>NaN</td>\n      <td>1611.0</td>\n      <td>NaN</td>\n      <td>NaN</td>\n      <td>NaN</td>\n      <td>NaN</td>\n      <td>NaN</td>\n      <td>NaN</td>\n    </tr>\n    <tr>\n      <th>2726</th>\n      <td>สามทางเหลือง 15มิล(3หุน) ช้าง</td>\n      <td>สท-50015-</td>\n      <td>SCG</td>\n      <td>NaN</td>\n      <td>1611.0</td>\n      <td>NaN</td>\n      <td>NaN</td>\n      <td>NaN</td>\n      <td>NaN</td>\n      <td>NaN</td>\n      <td>NaN</td>\n    </tr>\n  </tbody>\n</table>\n</div>"
     },
     "metadata": {},
     "execution_count": 33
    }
   ],
   "source": [
    "stock = pd.read_csv('product.csv')\n",
    "stock[stock['Brand'] == 'SCG']"
   ]
  },
  {
   "cell_type": "code",
   "execution_count": null,
   "metadata": {},
   "outputs": [],
   "source": []
  }
 ]
}